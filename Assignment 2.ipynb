{
 "cells": [
  {
   "cell_type": "code",
   "execution_count": 1,
   "id": "fefb57f5-318a-4bba-9d4d-18323d0eabe7",
   "metadata": {},
   "outputs": [
    {
     "name": "stdout",
     "output_type": "stream",
     "text": [
      "The sum of all even numbers between 1 and 50 is: 0\n",
      "The sum of all even numbers between 1 and 50 is: 2\n",
      "The sum of all even numbers between 1 and 50 is: 2\n",
      "The sum of all even numbers between 1 and 50 is: 6\n",
      "The sum of all even numbers between 1 and 50 is: 6\n",
      "The sum of all even numbers between 1 and 50 is: 12\n",
      "The sum of all even numbers between 1 and 50 is: 12\n",
      "The sum of all even numbers between 1 and 50 is: 20\n",
      "The sum of all even numbers between 1 and 50 is: 20\n",
      "The sum of all even numbers between 1 and 50 is: 30\n",
      "The sum of all even numbers between 1 and 50 is: 30\n",
      "The sum of all even numbers between 1 and 50 is: 42\n",
      "The sum of all even numbers between 1 and 50 is: 42\n",
      "The sum of all even numbers between 1 and 50 is: 56\n",
      "The sum of all even numbers between 1 and 50 is: 56\n",
      "The sum of all even numbers between 1 and 50 is: 72\n",
      "The sum of all even numbers between 1 and 50 is: 72\n",
      "The sum of all even numbers between 1 and 50 is: 90\n",
      "The sum of all even numbers between 1 and 50 is: 90\n",
      "The sum of all even numbers between 1 and 50 is: 110\n",
      "The sum of all even numbers between 1 and 50 is: 110\n",
      "The sum of all even numbers between 1 and 50 is: 132\n",
      "The sum of all even numbers between 1 and 50 is: 132\n",
      "The sum of all even numbers between 1 and 50 is: 156\n",
      "The sum of all even numbers between 1 and 50 is: 156\n",
      "The sum of all even numbers between 1 and 50 is: 182\n",
      "The sum of all even numbers between 1 and 50 is: 182\n",
      "The sum of all even numbers between 1 and 50 is: 210\n",
      "The sum of all even numbers between 1 and 50 is: 210\n",
      "The sum of all even numbers between 1 and 50 is: 240\n",
      "The sum of all even numbers between 1 and 50 is: 240\n",
      "The sum of all even numbers between 1 and 50 is: 272\n",
      "The sum of all even numbers between 1 and 50 is: 272\n",
      "The sum of all even numbers between 1 and 50 is: 306\n",
      "The sum of all even numbers between 1 and 50 is: 306\n",
      "The sum of all even numbers between 1 and 50 is: 342\n",
      "The sum of all even numbers between 1 and 50 is: 342\n",
      "The sum of all even numbers between 1 and 50 is: 380\n",
      "The sum of all even numbers between 1 and 50 is: 380\n",
      "The sum of all even numbers between 1 and 50 is: 420\n",
      "The sum of all even numbers between 1 and 50 is: 420\n",
      "The sum of all even numbers between 1 and 50 is: 462\n",
      "The sum of all even numbers between 1 and 50 is: 462\n",
      "The sum of all even numbers between 1 and 50 is: 506\n",
      "The sum of all even numbers between 1 and 50 is: 506\n",
      "The sum of all even numbers between 1 and 50 is: 552\n",
      "The sum of all even numbers between 1 and 50 is: 552\n",
      "The sum of all even numbers between 1 and 50 is: 600\n",
      "The sum of all even numbers between 1 and 50 is: 600\n",
      "The sum of all even numbers between 1 and 50 is: 650\n"
     ]
    }
   ],
   "source": [
    "n = 50\n",
    "even = 0\n",
    "for number in range(1, n  + 1):\n",
    "    if number % 2 == 0:\n",
    "        even += number\n",
    "    print(f\"The sum of all even numbers between 1 and {n} is: {even}\")"
   ]
  },
  {
   "cell_type": "code",
   "execution_count": null,
   "id": "2de537b2-c21f-47d5-8036-8222d98625fa",
   "metadata": {},
   "outputs": [],
   "source": []
  }
 ],
 "metadata": {
  "kernelspec": {
   "display_name": "Python [conda env:base] *",
   "language": "python",
   "name": "conda-base-py"
  },
  "language_info": {
   "codemirror_mode": {
    "name": "ipython",
    "version": 3
   },
   "file_extension": ".py",
   "mimetype": "text/x-python",
   "name": "python",
   "nbconvert_exporter": "python",
   "pygments_lexer": "ipython3",
   "version": "3.12.7"
  }
 },
 "nbformat": 4,
 "nbformat_minor": 5
}
