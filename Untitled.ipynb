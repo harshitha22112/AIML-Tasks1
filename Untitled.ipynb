{
 "cells": [
  {
   "cell_type": "code",
   "execution_count": null,
   "id": "5419ad7c-0f64-4412-9874-9df35b965d89",
   "metadata": {},
   "outputs": [],
   "source": [
    "Maths=89\n",
    "Physics=85\n",
    "chemistry=82\n",
    "average = (Maths+Physics+chemistry) / 3\n",
    "if average >= 90:\n",
    "    print"
   ]
  }
 ],
 "metadata": {
  "kernelspec": {
   "display_name": "Python [conda env:base] *",
   "language": "python",
   "name": "conda-base-py"
  },
  "language_info": {
   "codemirror_mode": {
    "name": "ipython",
    "version": 3
   },
   "file_extension": ".py",
   "mimetype": "text/x-python",
   "name": "python",
   "nbconvert_exporter": "python",
   "pygments_lexer": "ipython3",
   "version": "3.12.7"
  }
 },
 "nbformat": 4,
 "nbformat_minor": 5
}
